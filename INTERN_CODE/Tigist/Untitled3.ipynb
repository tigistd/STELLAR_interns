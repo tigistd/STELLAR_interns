{
 "cells": [
  {
   "cell_type": "code",
   "execution_count": 32,
   "metadata": {},
   "outputs": [],
   "source": [
    "import numpy as np\n"
   ]
  },
  {
   "cell_type": "code",
   "execution_count": 33,
   "metadata": {},
   "outputs": [
    {
     "name": "stdout",
     "output_type": "stream",
     "text": [
      "[[0.18428731 0.55482024]\n",
      " [0.7211177  0.70239494]\n",
      " [0.84762596 0.88522977]\n",
      " [0.72184946 0.40424016]\n",
      " [0.13175365 0.45782359]\n",
      " [0.04233896 0.18334159]\n",
      " [0.53809683 0.62668879]\n",
      " [0.95346348 0.15069883]\n",
      " [0.17723978 0.50313014]\n",
      " [0.20469355 0.36386604]\n",
      " [0.31155522 0.89941798]\n",
      " [0.96999736 0.52925504]\n",
      " [0.06510567 0.08527888]\n",
      " [0.94080292 0.58916964]\n",
      " [0.68906079 0.36215063]\n",
      " [0.07206619 0.09023895]\n",
      " [0.37070818 0.06541567]\n",
      " [0.32307269 0.54501816]\n",
      " [0.15927369 0.27373841]\n",
      " [0.49462728 0.17759489]]\n"
     ]
    }
   ],
   "source": [
    "random=np.random.random_sample((20,2))\n",
    "print(random)"
   ]
  },
  {
   "cell_type": "code",
   "execution_count": 34,
   "metadata": {},
   "outputs": [
    {
     "name": "stdout",
     "output_type": "stream",
     "text": [
      "[0.  0.5 1.  1.5 2.  2.5 3.  3.5 4.  4.5 5.  5.5 6.  6.5 7.  7.5 8.  8.5\n",
      " 9.  9.5]\n"
     ]
    }
   ],
   "source": [
    "time = np.arange(0,10,.5)\n",
    "print(time)"
   ]
  },
  {
   "cell_type": "code",
   "execution_count": 35,
   "metadata": {},
   "outputs": [
    {
     "name": "stdout",
     "output_type": "stream",
     "text": [
      "[[0.         0.18428731 0.55482024]\n",
      " [0.5        0.7211177  0.70239494]\n",
      " [1.         0.84762596 0.88522977]\n",
      " [1.5        0.72184946 0.40424016]\n",
      " [2.         0.13175365 0.45782359]\n",
      " [2.5        0.04233896 0.18334159]\n",
      " [3.         0.53809683 0.62668879]\n",
      " [3.5        0.95346348 0.15069883]\n",
      " [4.         0.17723978 0.50313014]\n",
      " [4.5        0.20469355 0.36386604]\n",
      " [5.         0.31155522 0.89941798]\n",
      " [5.5        0.96999736 0.52925504]\n",
      " [6.         0.06510567 0.08527888]\n",
      " [6.5        0.94080292 0.58916964]\n",
      " [7.         0.68906079 0.36215063]\n",
      " [7.5        0.07206619 0.09023895]\n",
      " [8.         0.37070818 0.06541567]\n",
      " [8.5        0.32307269 0.54501816]\n",
      " [9.         0.15927369 0.27373841]\n",
      " [9.5        0.49462728 0.17759489]]\n"
     ]
    }
   ],
   "source": [
    "nrandom = np.insert(random, 0, time, axis=1)\n",
    "print(nrandom)"
   ]
  },
  {
   "cell_type": "code",
   "execution_count": 36,
   "metadata": {},
   "outputs": [
    {
     "data": {
      "text/plain": [
       "20"
      ]
     },
     "execution_count": 36,
     "metadata": {},
     "output_type": "execute_result"
    }
   ],
   "source": [
    "len(random)\n",
    "len(nrandom)"
   ]
  },
  {
   "cell_type": "code",
   "execution_count": 6,
   "metadata": {},
   "outputs": [
    {
     "name": "stdout",
     "output_type": "stream",
     "text": [
      "[False False False False False False False False  True  True  True  True\n",
      "  True  True  True False False False False False]\n"
     ]
    }
   ],
   "source": [
    "mask = (nrandom[:,0]>=4) & (nrandom[:,0]<=7)\n",
    "print(mask)"
   ]
  },
  {
   "cell_type": "code",
   "execution_count": 22,
   "metadata": {},
   "outputs": [
    {
     "name": "stdout",
     "output_type": "stream",
     "text": [
      "[[4.         0.45884417 0.71759311]\n",
      " [4.5        0.54639421 0.61920454]\n",
      " [5.         0.67122826 0.21812257]\n",
      " [5.5        0.18191721 0.94504351]\n",
      " [6.         0.0362971  0.04731527]\n",
      " [6.5        0.29584749 0.1658747 ]\n",
      " [7.         0.82186282 0.70963597]]\n"
     ]
    }
   ],
   "source": [
    "maskd=nrandom[mask]\n",
    "print(maskd)"
   ]
  },
  {
   "cell_type": "code",
   "execution_count": 16,
   "metadata": {},
   "outputs": [
    {
     "data": {
      "text/plain": [
       "array([4. , 4.5, 5. , 5.5, 6. , 6.5, 7. ])"
      ]
     },
     "execution_count": 16,
     "metadata": {},
     "output_type": "execute_result"
    }
   ],
   "source": [
    "np.arange(start=4, stop=7.5,step=.5)\n"
   ]
  },
  {
   "cell_type": "code",
   "execution_count": 23,
   "metadata": {},
   "outputs": [
    {
     "name": "stdout",
     "output_type": "stream",
     "text": [
      "[4.  4.5 5.  5.5 6.  6.5 7. ]\n"
     ]
    }
   ],
   "source": [
    "array=(maskd[:,0])\n",
    "print(array)"
   ]
  },
  {
   "cell_type": "code",
   "execution_count": 25,
   "metadata": {},
   "outputs": [
    {
     "name": "stdout",
     "output_type": "stream",
     "text": [
      "[0.45884417 0.54639421 0.67122826 0.18191721 0.0362971  0.29584749\n",
      " 0.82186282]\n"
     ]
    }
   ],
   "source": [
    "flux=(maskd[:,1])\n",
    "print(flux)"
   ]
  },
  {
   "cell_type": "code",
   "execution_count": null,
   "metadata": {},
   "outputs": [],
   "source": []
  }
 ],
 "metadata": {
  "kernelspec": {
   "display_name": "Python 3",
   "language": "python",
   "name": "python3"
  },
  "language_info": {
   "codemirror_mode": {
    "name": "ipython",
    "version": 3
   },
   "file_extension": ".py",
   "mimetype": "text/x-python",
   "name": "python",
   "nbconvert_exporter": "python",
   "pygments_lexer": "ipython3",
   "version": "3.7.3"
  }
 },
 "nbformat": 4,
 "nbformat_minor": 2
}
